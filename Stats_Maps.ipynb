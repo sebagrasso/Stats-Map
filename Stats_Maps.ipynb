{
 "cells": [
  {
   "cell_type": "markdown",
   "id": "7eca1996-7fea-45c9-86a1-33ddeec27bde",
   "metadata": {},
   "source": [
    "### 1. IMPORTS"
   ]
  },
  {
   "cell_type": "code",
   "execution_count": 1,
   "id": "58232804-a503-4752-b7df-3e5dba84a15d",
   "metadata": {},
   "outputs": [],
   "source": [
    "import numpy as np\n",
    "import pandas as pd\n",
    "\n",
    "import matplotlib.pyplot as plt\n",
    "import ipywidgets as widgets\n",
    "from ipywidgets import interact, IntProgress, Box, Label, Layout\n",
    "from IPython.display import display\n",
    "import seaborn as sns\n",
    "sns.set()\n",
    "\n",
    "import matplotlib.pyplot as plt\n",
    "import matplotlib.cm\n",
    "from mpl_toolkits.basemap import Basemap\n",
    "from matplotlib.patches import Polygon\n",
    "from matplotlib.collections import PatchCollection\n",
    "from matplotlib.colors import Normalize\n",
    "\n",
    "import os\n",
    "import warnings\n",
    "warnings.filterwarnings(\"ignore\")"
   ]
  },
  {
   "cell_type": "markdown",
   "id": "954e801b-b3dc-40e6-94ec-787520a53725",
   "metadata": {
    "tags": []
   },
   "source": [
    "### 2. DATA LOADING AND PREPARATION"
   ]
  },
  {
   "cell_type": "code",
   "execution_count": 9,
   "id": "52ea5a77-7c1b-4a7b-b909-ae81f1391741",
   "metadata": {},
   "outputs": [
    {
     "data": {
      "text/plain": [
       "['2020-datos-anuales-panel-consumo-alimentario-hogares-rev-nov2021_tcm30-561748.xlsx',\n",
       " 'ESP_adm',\n",
       " 'spain_cafe_point_IGISMAP.csv',\n",
       " 'Stats_Maps.ipynb']"
      ]
     },
     "execution_count": 9,
     "metadata": {},
     "output_type": "execute_result"
    }
   ],
   "source": [
    "os.listdir()"
   ]
  },
  {
   "cell_type": "code",
   "execution_count": 6,
   "id": "b5cafeb1-1c81-4d1f-8d01-8212489dcf2a",
   "metadata": {},
   "outputs": [],
   "source": [
    "sheetname = [\"VALOR\",\"VOLUMEN\",\"PENETRACIÓN\",\"SOCIOECONÓMICO VALOR\",\"SOCIOECONÓMICO VOLUMEN\",\"SOCIOECONÓMICO PENETRACIÓN\"]\n",
    "sheetname_mes = [\"enero\",\"febrero\",\"marzo\",\"abril\",\"mayo\",\"junio\",\"julio\",\"agosto\",\"septiembre\",\"octubre\",\"noviembre\"]"
   ]
  },
  {
   "cell_type": "code",
   "execution_count": 7,
   "id": "d65708fa-0b74-41a7-93aa-ec3b42b50305",
   "metadata": {},
   "outputs": [],
   "source": [
    "sheetname_unit = sheetname.copy()\n",
    "sheetname_unit[0] = sheetname[0] + \" [M€]\"\n",
    "sheetname_unit[1] = sheetname[1] + \" [k Kg]\"\n",
    "sheetname_unit[2] = sheetname[2] + \" [%]\"\n",
    "sheetname_unit[3] = sheetname[3] + \" [M€]\"\n",
    "sheetname_unit[4] = sheetname[4] + \" [k Kg]\"\n",
    "sheetname_unit[5] = sheetname[5] + \" [%]\""
   ]
  },
  {
   "cell_type": "code",
   "execution_count": 10,
   "id": "ade05f9f-819b-435b-af56-339d5018b897",
   "metadata": {},
   "outputs": [],
   "source": [
    "anual20 = pd.read_excel(os.listdir()[0], sheet_name = sheetname, index_col = [0], header = [2])"
   ]
  },
  {
   "cell_type": "code",
   "execution_count": 34,
   "id": "17665f64-25f8-4461-b369-6adc75f0106f",
   "metadata": {},
   "outputs": [
    {
     "name": "stdout",
     "output_type": "stream",
     "text": [
      "\n",
      "It has been loaded a dataset of food consumption in Spain.\n",
      "It has the following features:\n",
      "['VALOR', 'VOLUMEN', 'PENETRACIÓN', 'SOCIOECONÓMICO VALOR', 'SOCIOECONÓMICO VOLUMEN', 'SOCIOECONÓMICO PENETRACIÓN']\n",
      "\n"
     ]
    }
   ],
   "source": [
    "print(f\"\"\"\n",
    "It has been loaded a dataset of food consumption in Spain.\n",
    "It has the following features:\n",
    "{list(anual20.keys())}\n",
    "\"\"\")"
   ]
  },
  {
   "cell_type": "code",
   "execution_count": 42,
   "id": "2d2ad209-fcef-4292-ad9d-310b0e121377",
   "metadata": {},
   "outputs": [
    {
     "name": "stdout",
     "output_type": "stream",
     "text": [
      "\n",
      "Every feature has the food classification as below:\n",
      "\n",
      "['.TOTAL ALIMENTACION', 'T.HUEVOS KGS', 'T.HUEVOS UNDS.', 'TOTAL HUEVOS GALLINA', 'OTRAS AVES', 'MIEL', 'GRANEL', 'ENVASADA', 'TOTAL CARNE', 'CARNE CERTIFICADA', 'CARNE FRESCA', 'SALCHICHAS FRESCAS', 'CARNE VACUNO', 'TERNERA', 'AÑOJO', 'MAYOR', 'CARNE POLLO', 'POLLO ENTERO', 'POLLO FILETES', 'POLLO POR PIEZAS', 'CARNE CONEJO', 'CARNE OVINO/CAPRINO', 'CORDERO', 'CABRITO', 'OTRO OVINO/CAPRINO', 'OVINO/CAPRINO ENTE', 'OVINO/CAPRINO PIEZ', 'CARNE CERDO', 'CARNE CERDO ADOBAD', 'CARN.CERDO IBERICO', 'CARNE CABALLO', 'CARNE DESPOJOS', 'DESPOJOS CERDO', 'DESPOJOS CORDERO', 'DESPOJOS POLLO', 'DESPOJOS TERNERA', 'DESPOJOS OT.PROCED', 'OTRAS CARNES FRESCA', 'AVESTRUZ', 'PAVO', 'OTRAS AVES', 'CARNE CONGELADA', 'C.CONG.POLLO', 'C.CONG.CERDO', 'C.CONG.VACA', 'CARNE CABALLO', 'RESTO CARNES CONG.', 'SALCHICHAS CONGELAD', 'CARNE TRANSFORMADA', 'JAMON CURADO+PALETA'] etc... \n",
      "\n"
     ]
    }
   ],
   "source": [
    "print(f\"\"\"\n",
    "Every feature has the food classification as below:\n",
    "\n",
    "{list(anual20[sheetname[0]].index)[:50]} etc... \n",
    "\"\"\")"
   ]
  },
  {
   "cell_type": "markdown",
   "id": "704b86be-6396-4d87-87ad-9b67f71e4f6e",
   "metadata": {},
   "source": [
    "#### In this example we will focus in Capsule Coffee:"
   ]
  },
  {
   "cell_type": "code",
   "execution_count": 44,
   "id": "62900424-3eec-4879-9b79-c0bb10542f8b",
   "metadata": {},
   "outputs": [
    {
     "data": {
      "text/html": [
       "<div>\n",
       "<style scoped>\n",
       "    .dataframe tbody tr th:only-of-type {\n",
       "        vertical-align: middle;\n",
       "    }\n",
       "\n",
       "    .dataframe tbody tr th {\n",
       "        vertical-align: top;\n",
       "    }\n",
       "\n",
       "    .dataframe thead th {\n",
       "        text-align: right;\n",
       "    }\n",
       "</style>\n",
       "<table border=\"1\" class=\"dataframe\">\n",
       "  <thead>\n",
       "    <tr style=\"text-align: right;\">\n",
       "      <th></th>\n",
       "      <th>T.ESPAÑA</th>\n",
       "      <th>CATALUÑA</th>\n",
       "      <th>ARAGÓN</th>\n",
       "      <th>ILLES BALEARS</th>\n",
       "      <th>COMUNITAT VALENCIANA</th>\n",
       "      <th>REGIÓN DE MURCIA</th>\n",
       "      <th>ANDALUCÍA</th>\n",
       "      <th>COMUNIDAD DE MADRID</th>\n",
       "      <th>CASTILLA - LA MANCHA</th>\n",
       "      <th>EXTREMADURA</th>\n",
       "      <th>CASTILLA Y LEÓN</th>\n",
       "      <th>GALICIA</th>\n",
       "      <th>PRINCIPADO DE ASTURIAS</th>\n",
       "      <th>CANTABRIA</th>\n",
       "      <th>PAIS VASCO</th>\n",
       "      <th>LA RIOJA</th>\n",
       "      <th>C. FORAL DE NAVARRA</th>\n",
       "      <th>CANARIAS</th>\n",
       "    </tr>\n",
       "  </thead>\n",
       "  <tbody>\n",
       "    <tr>\n",
       "      <th>CAFE EN CAPSULAS</th>\n",
       "      <td>649859.16</td>\n",
       "      <td>177961.35</td>\n",
       "      <td>21537.718</td>\n",
       "      <td>19916.618</td>\n",
       "      <td>85573.921</td>\n",
       "      <td>23536.076</td>\n",
       "      <td>105057.411</td>\n",
       "      <td>72980.234</td>\n",
       "      <td>17656.5368</td>\n",
       "      <td>8127.2802</td>\n",
       "      <td>19595.553</td>\n",
       "      <td>29486.065</td>\n",
       "      <td>12840.6885</td>\n",
       "      <td>4012.6204</td>\n",
       "      <td>25553.24</td>\n",
       "      <td>3134.1822</td>\n",
       "      <td>6327.3876</td>\n",
       "      <td>16562.302</td>\n",
       "    </tr>\n",
       "  </tbody>\n",
       "</table>\n",
       "</div>"
      ],
      "text/plain": [
       "                   T.ESPAÑA   CATALUÑA     ARAGÓN  ILLES BALEARS  \\\n",
       "CAFE EN CAPSULAS  649859.16  177961.35  21537.718      19916.618   \n",
       "\n",
       "                  COMUNITAT VALENCIANA  REGIÓN DE MURCIA   ANDALUCÍA  \\\n",
       "CAFE EN CAPSULAS             85573.921         23536.076  105057.411   \n",
       "\n",
       "                  COMUNIDAD DE MADRID  CASTILLA - LA MANCHA  EXTREMADURA  \\\n",
       "CAFE EN CAPSULAS            72980.234            17656.5368    8127.2802   \n",
       "\n",
       "                  CASTILLA Y LEÓN    GALICIA  PRINCIPADO DE ASTURIAS  \\\n",
       "CAFE EN CAPSULAS        19595.553  29486.065              12840.6885   \n",
       "\n",
       "                  CANTABRIA  PAIS VASCO   LA RIOJA  C. FORAL DE NAVARRA  \\\n",
       "CAFE EN CAPSULAS  4012.6204    25553.24  3134.1822            6327.3876   \n",
       "\n",
       "                   CANARIAS  \n",
       "CAFE EN CAPSULAS  16562.302  "
      ]
     },
     "execution_count": 44,
     "metadata": {},
     "output_type": "execute_result"
    }
   ],
   "source": [
    "anual20[sheetname[0]][anual20[sheetname[0]].index.str.contains(\"CAFE EN CAPSULAS\")]"
   ]
  },
  {
   "cell_type": "code",
   "execution_count": 45,
   "id": "8b640a85-daa3-4d37-babf-939d3494d2be",
   "metadata": {},
   "outputs": [
    {
     "data": {
      "text/html": [
       "<div>\n",
       "<style scoped>\n",
       "    .dataframe tbody tr th:only-of-type {\n",
       "        vertical-align: middle;\n",
       "    }\n",
       "\n",
       "    .dataframe tbody tr th {\n",
       "        vertical-align: top;\n",
       "    }\n",
       "\n",
       "    .dataframe thead th {\n",
       "        text-align: right;\n",
       "    }\n",
       "</style>\n",
       "<table border=\"1\" class=\"dataframe\">\n",
       "  <thead>\n",
       "    <tr style=\"text-align: right;\">\n",
       "      <th></th>\n",
       "      <th>CAFE EN CAPSULAS</th>\n",
       "    </tr>\n",
       "  </thead>\n",
       "  <tbody>\n",
       "    <tr>\n",
       "      <th>count</th>\n",
       "      <td>41.00000</td>\n",
       "    </tr>\n",
       "    <tr>\n",
       "      <th>mean</th>\n",
       "      <td>142652.01339</td>\n",
       "    </tr>\n",
       "    <tr>\n",
       "      <th>std</th>\n",
       "      <td>125439.33839</td>\n",
       "    </tr>\n",
       "    <tr>\n",
       "      <th>min</th>\n",
       "      <td>16562.30200</td>\n",
       "    </tr>\n",
       "    <tr>\n",
       "      <th>25%</th>\n",
       "      <td>54517.22500</td>\n",
       "    </tr>\n",
       "    <tr>\n",
       "      <th>50%</th>\n",
       "      <td>109156.70900</td>\n",
       "    </tr>\n",
       "    <tr>\n",
       "      <th>75%</th>\n",
       "      <td>175223.33000</td>\n",
       "    </tr>\n",
       "    <tr>\n",
       "      <th>max</th>\n",
       "      <td>649859.16000</td>\n",
       "    </tr>\n",
       "  </tbody>\n",
       "</table>\n",
       "</div>"
      ],
      "text/plain": [
       "       CAFE EN CAPSULAS\n",
       "count          41.00000\n",
       "mean       142652.01339\n",
       "std        125439.33839\n",
       "min         16562.30200\n",
       "25%         54517.22500\n",
       "50%        109156.70900\n",
       "75%        175223.33000\n",
       "max        649859.16000"
      ]
     },
     "execution_count": 45,
     "metadata": {},
     "output_type": "execute_result"
    }
   ],
   "source": [
    "i=3\n",
    "data = anual20[sheetname[i]][anual20[sheetname[i]].index.str.contains(\"CAFE EN CAPSULAS\")].T.sort_values(\"CAFE EN CAPSULAS\",ascending=False)\n",
    "data.describe()"
   ]
  },
  {
   "cell_type": "markdown",
   "id": "fe9d2bd7-92a9-42f2-8b2e-d52c6a08d029",
   "metadata": {
    "tags": []
   },
   "source": [
    "### 3. MAPS PLOTS"
   ]
  },
  {
   "cell_type": "code",
   "execution_count": 46,
   "id": "1f250ed2-77c7-4b6d-a890-edfceb656bf7",
   "metadata": {
    "tags": []
   },
   "outputs": [
    {
     "data": {
      "application/vnd.jupyter.widget-view+json": {
       "model_id": "0810a83f794c4fd7953281c608ebf60f",
       "version_major": 2,
       "version_minor": 0
      },
      "text/plain": [
       "interactive(children=(IntSlider(value=0, description='i', max=2), Output()), _dom_classes=('widget-interact',)…"
      ]
     },
     "metadata": {},
     "output_type": "display_data"
    },
    {
     "data": {
      "text/plain": [
       "<function __main__.anual20_plot1(i)>"
      ]
     },
     "execution_count": 46,
     "metadata": {},
     "output_type": "execute_result"
    }
   ],
   "source": [
    "def anual20_plot1(i):\n",
    "    df_bars = anual20[sheetname[i]][anual20[sheetname[i]].index.str.contains(\"CAFE EN CAPSULAS\")].T.sort_values(\"CAFE EN CAPSULAS\",ascending=False).T\n",
    "    df_map = anual20[sheetname[i]][anual20[sheetname[i]].index.str.contains(\"CAFE EN CAPSULAS\")].iloc[:,1:].T.reset_index().rename(columns = {\"index\":\"area\"})\n",
    "\n",
    "    ######################## BARS ########################\n",
    "    \n",
    "    fig, ax = plt.subplots(1,2,figsize = (23,7))\n",
    "    plt.suptitle(f\"{df_bars.index[0]} | {sheetname_unit[i]}\", fontsize = 22)\n",
    "    \n",
    "    ax[0].bar(x = df_bars.columns[1:], height = df_bars.values[0][1:])\n",
    "    \n",
    "    ax[0].set_xticklabels(df_bars.columns[1:], rotation = 90, fontsize = 10)\n",
    "    ax[0].set_xlabel(\"Region\", fontsize = 14)\n",
    "    ax[0].set_ylabel(sheetname_unit[i].capitalize(), fontsize = 14)\n",
    "    \n",
    "    ######################## MAP ########################\n",
    "    # FROM: https://boundingbox.klokantech.com/\n",
    "    # format: DublinCore\n",
    "    # westlimit=-11.47; southlimit=35.19; eastlimit=4.88; northlimit=44.44\n",
    "    \n",
    "    coord = {\"westlimit\":-11.47, \"southlimit\":35.19, \"eastlimit\":4.88, \"northlimit\":44.44}\n",
    "    # Center of the map\n",
    "    lat_0 = (coord[\"northlimit\"]-coord[\"southlimit\"])/2 + coord[\"southlimit\"]\n",
    "    lon_0 = (coord[\"westlimit\"]-coord[\"eastlimit\"])/2 + coord[\"eastlimit\"]\n",
    "    \n",
    "    m = Basemap(resolution='i', # c, l, i, h, f or None\n",
    "                projection='merc',\n",
    "                lat_0 = lat_0, lon_0 = lon_0,\n",
    "                llcrnrlon = coord[\"westlimit\"], llcrnrlat = coord[\"southlimit\"], urcrnrlon = coord[\"eastlimit\"], urcrnrlat = coord[\"northlimit\"])\n",
    "    \n",
    "    m.drawmapboundary(fill_color='#46bcec')\n",
    "    m.fillcontinents(color='#f2f2f2',lake_color='#46bcec')\n",
    "    m.drawcoastlines()\n",
    "    m.drawcountries()\n",
    "    \n",
    "    m.readshapefile(\"ESP_adm/ESP_adm1\",\"ESP_adm1\")\n",
    "    \n",
    "    df_poly = pd.DataFrame({\n",
    "            'shapes': [Polygon(np.array(shape), True) for shape in m.ESP_adm1],\n",
    "            'area': [area['NAME_1'] for area in m.ESP_adm1_info]\n",
    "        })\n",
    "    \n",
    "    # UNIFY AREA NAMES BETWEEM MAP AND DATA\n",
    "    # anual20[sheetname[0]][anual20[sheetname[0]].index.str.contains(\"CAFE EN CAPSULAS\")].iloc[:,1:].T.sort_index().index\n",
    "    reg_adm_esp = {'Andalucía':'ANDALUCÍA', 'Aragón':'ARAGÓN', 'Cantabria':'CANTABRIA', 'Castilla-La Mancha':'CASTILLA - LA MANCHA','Castilla y León':'CASTILLA Y LEÓN','Cataluña':'CATALUÑA','Comunidad de Madrid':'COMUNIDAD DE MADRID', 'Comunidad Foral de Navarra':'C. FORAL DE NAVARRA','Comunidad Valenciana':'COMUNITAT VALENCIANA', 'Extremadura':'EXTREMADURA', 'Galicia':'GALICIA', 'Islas Baleares':'ILLES BALEARS','Islas Canarias':'CANARIAS', 'La Rioja':'LA RIOJA', 'País Vasco':'PAIS VASCO','Principado de Asturias':'PRINCIPADO DE ASTURIAS', 'Región de Murcia':'REGIÓN DE MURCIA'}\n",
    "    # ,'Ceuta y Melilla':\n",
    "    df_poly[\"area\"].replace(reg_adm_esp,inplace = True)\n",
    "    \n",
    "    df_poly = df_poly.merge(df_map, on='area', how='left')\n",
    "    \n",
    "    cmap = plt.get_cmap('Oranges')   \n",
    "    pc = PatchCollection(df_poly.shapes, zorder=2)\n",
    "    norm = Normalize()\n",
    "\n",
    "    pc.set_facecolor(cmap(norm(df_poly[\"CAFE EN CAPSULAS\"].fillna(0).values)))\n",
    "    ax[1].add_collection(pc)    \n",
    "    mapper = matplotlib.cm.ScalarMappable(norm=norm, cmap=cmap)\n",
    "    \n",
    "    mapper.set_array(df_poly[\"CAFE EN CAPSULAS\"])\n",
    "    plt.colorbar(mapper, shrink=0.8)\n",
    "\n",
    "    plt.subplots_adjust(left=0.12,\n",
    "                    bottom=0.1, \n",
    "                    right=0.88, \n",
    "                    top=0.92, \n",
    "                    wspace=0.05, \n",
    "                    hspace=0.1)\n",
    "    plt.show()\n",
    "    \n",
    "# i = widgets.IntSlider(min = 0, max = len(sheetname)-1, step = 1, description = \"Sheet Num\", layout = widgets.Layout(width = \"22%\"))\n",
    "# ui = widgets.Box([i])\n",
    "# out = widgets.interactive_output(anual20_plot, anual20,{\"i\":i})\n",
    "\n",
    "# display(ui,out)\n",
    "interact(anual20_plot1, i = widgets.IntSlider(min = 0, max = 2, step = 1))"
   ]
  }
 ],
 "metadata": {
  "kernelspec": {
   "display_name": "Python 3 (ipykernel)",
   "language": "python",
   "name": "python3"
  },
  "language_info": {
   "codemirror_mode": {
    "name": "ipython",
    "version": 3
   },
   "file_extension": ".py",
   "mimetype": "text/x-python",
   "name": "python",
   "nbconvert_exporter": "python",
   "pygments_lexer": "ipython3",
   "version": "3.10.4"
  }
 },
 "nbformat": 4,
 "nbformat_minor": 5
}
